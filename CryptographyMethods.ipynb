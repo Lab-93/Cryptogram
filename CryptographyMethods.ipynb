{
 "cells": [
  {
   "attachments": {},
   "cell_type": "markdown",
   "metadata": {},
   "source": [
    "# Lab-93 Cryptography Methods"
   ]
  },
  {
   "attachments": {},
   "cell_type": "markdown",
   "metadata": {},
   "source": [
    "## Module Imports"
   ]
  },
  {
   "cell_type": "code",
   "execution_count": null,
   "metadata": {},
   "outputs": [],
   "source": [
    "#!/bin/python3\n",
    "from base64 import urlsafe_b64encode\n",
    "import hashlib as hashlib\n",
    "from cryptography.fernet import Fernet"
   ]
  },
  {
   "attachments": {},
   "cell_type": "markdown",
   "metadata": {},
   "source": [
    "## CryptographyMethodsAPI"
   ]
  },
  {
   "cell_type": "code",
   "execution_count": null,
   "metadata": {},
   "outputs": [],
   "source": [
    "class CryptographyMethodsAPI():\n",
    "  \"\"\"\n",
    "  The CryptographyMethodsAPI class enscapulates methods used for keeping\n",
    "  secrets in both one-way and two-way forms.\n",
    "\n",
    "  SHA-256 is delivered in a much simpler syntax than the default method\n",
    "  utilized by hashlib; the CryptographyMethods.SHA256 object merely\n",
    "  requires a secret to be hashed and delivers the hexdigest of the\n",
    "  resulting byte object.\n",
    "\n",
    "  For two-way secret keeping CryptographyMethods.Encryption and\n",
    "  CryptographyMethods.Decryption are offered; both of which utilize the\n",
    "  CryptographyMethods.BuildKey function for locking and unlocking secrets,\n",
    "  respectively.\n",
    "  \"\"\""
   ]
  },
  {
   "attachments": {},
   "cell_type": "markdown",
   "metadata": {},
   "source": [
    "### Constants Setup"
   ]
  },
  {
   "cell_type": "code",
   "execution_count": null,
   "metadata": {},
   "outputs": [],
   "source": [
    "  def __init__(self):\n",
    "    self = self"
   ]
  },
  {
   "attachments": {},
   "cell_type": "markdown",
   "metadata": {},
   "source": [
    "### SHA-256"
   ]
  },
  {
   "cell_type": "code",
   "execution_count": null,
   "metadata": {},
   "outputs": [],
   "source": [
    "  def SHA256(self, secret: str):\n",
    "    \"\"\"\n",
    "    Create a SHA-256 hash of whatever value is given as 'secret' and\n",
    "    return the the hexdigest of the bytes-encoded secret.\n",
    "    \"\"\"\n",
    "    return hashlib.sha256(secret.encode())\\\n",
    "                  .hexdigest()"
   ]
  },
  {
   "attachments": {},
   "cell_type": "markdown",
   "metadata": {},
   "source": [
    "### BuildKey"
   ]
  },
  {
   "cell_type": "code",
   "execution_count": null,
   "metadata": {},
   "outputs": [],
   "source": [
    "  def BuildKey(self, key: str):\n",
    "    \"\"\"\n",
    "    Create a two-way encryption token using the first 32\n",
    "    digits of the hash of a given string named 'key'.\n",
    "\n",
    "    The results are then encoded in urlsafe-base64 bytes\n",
    "    and returned to the caller.\n",
    "    \"\"\"\n",
    "    basecode = self.SHA256(str(key))[:32]\n",
    "    return urlsafe_b64encode(basecode.encode())"
   ]
  },
  {
   "attachments": {},
   "cell_type": "markdown",
   "metadata": {},
   "source": [
    "### Encryption"
   ]
  },
  {
   "cell_type": "code",
   "execution_count": null,
   "metadata": {},
   "outputs": [],
   "source": [
    "  def Encryption(self, phrase: bytes, target: str):\n",
    "    \"\"\"\n",
    "    Encrypt a 'target' string using a byte 'phrase' provided by\n",
    "    CryptographyMethods.BuildKey as an encryption token.\n",
    "    \"\"\"\n",
    "    intelligence = Fernet(phrase)\n",
    "    return intelligence.encrypt(bytes(target, 'utf-8'))"
   ]
  },
  {
   "attachments": {},
   "cell_type": "markdown",
   "metadata": {},
   "source": [
    "### Decryption"
   ]
  },
  {
   "cell_type": "code",
   "execution_count": null,
   "metadata": {},
   "outputs": [],
   "source": [
    "  def Decryption(self, phrase: bytes, target: str):\n",
    "    \"\"\"\n",
    "    Decrypt a 'target' string using a byte 'phrase' provided by\n",
    "    CryptographyMethods.BuildKey as an encryption token.\n",
    "    \"\"\"\n",
    "    intelligence = Fernet(phrase)\n",
    "    return intelligence.decrypt(target)"
   ]
  }
 ],
 "metadata": {
  "language_info": {
   "name": "python"
  },
  "orig_nbformat": 4
 },
 "nbformat": 4,
 "nbformat_minor": 2
}
